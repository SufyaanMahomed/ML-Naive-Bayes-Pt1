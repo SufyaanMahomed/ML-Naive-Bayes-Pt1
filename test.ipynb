{
 "cells": [
  {
   "cell_type": "code",
   "execution_count": 2,
   "metadata": {},
   "outputs": [
    {
     "name": "stdout",
     "output_type": "stream",
     "text": [
      "Word      P(Word|Spam)   P(Word|Ham)\n",
      "===================================\n",
      "buy       0.25           0.50\n",
      "money     0.75           0.50\n",
      "online    0.25           0.50\n",
      "send      0.75           0.50\n",
      "this      0.25           0.50\n",
      "today     0.75           0.50\n",
      "us        0.25           0.50\n"
     ]
    },
    {
     "data": {
      "text/plain": [
       "{'Spam': defaultdict(int,\n",
       "             {'money': 3,\n",
       "              'us': 1,\n",
       "              'today': 3,\n",
       "              'send': 3,\n",
       "              'buy': 1,\n",
       "              'online': 1,\n",
       "              'this': 1}),\n",
       " 'Ham': defaultdict(int,\n",
       "             {'buy': 1,\n",
       "              'today': 1,\n",
       "              'online': 1,\n",
       "              'this': 1,\n",
       "              'money': 1,\n",
       "              'us': 1,\n",
       "              'send': 1})}"
      ]
     },
     "execution_count": 2,
     "metadata": {},
     "output_type": "execute_result"
    }
   ],
   "source": [
    "from collections import defaultdict\n",
    "\n",
    "# Training data\n",
    "emails = [\n",
    "    (\"Buy this online today\", \"Ham\"),\n",
    "    (\"Send us money today\", \"Spam\"),\n",
    "    (\"Send money today\", \"Spam\"),\n",
    "    (\"Buy online today\", \"Spam\"),\n",
    "    (\"Send us money\", \"Ham\"),\n",
    "    (\"Send this money\", \"Spam\")\n",
    "]\n",
    "\n",
    "# Step 1: Count total spam and ham emails\n",
    "total_spam = sum(1 for _, label in emails if label == \"Spam\")\n",
    "total_ham = sum(1 for _, label in emails if label == \"Ham\")\n",
    "\n",
    "# Step 2: Count word occurrences in spam and ham\n",
    "word_counts = {\n",
    "    \"Spam\": defaultdict(int),\n",
    "    \"Ham\": defaultdict(int)\n",
    "}\n",
    "unique_words = set()\n",
    "\n",
    "for text, label in emails:\n",
    "    words = set(text.lower().split())  # Convert to lowercase and get unique words in email\n",
    "    unique_words.update(words)\n",
    "    for word in words:\n",
    "        word_counts[label][word] += 1\n",
    "\n",
    "# Step 3: Compute conditional probabilities\n",
    "conditional_probs = {\"Spam\": {}, \"Ham\": {}}\n",
    "for word in unique_words:\n",
    "    conditional_probs[\"Spam\"][word] = word_counts[\"Spam\"][word] / total_spam\n",
    "    conditional_probs[\"Ham\"][word] = word_counts[\"Ham\"][word] / total_ham\n",
    "\n",
    "# Display the result as a table\n",
    "print(f\"{'Word':<10}{'P(Word|Spam)':<15}{'P(Word|Ham)'}\")\n",
    "print(\"=\" * 35)\n",
    "for word in sorted(unique_words):\n",
    "    print(f\"{word:<10}{conditional_probs['Spam'][word]:<15.2f}{conditional_probs['Ham'][word]:.2f}\")\n",
    "\n",
    "word_counts"
   ]
  }
 ],
 "metadata": {
  "kernelspec": {
   "display_name": "base",
   "language": "python",
   "name": "python3"
  },
  "language_info": {
   "codemirror_mode": {
    "name": "ipython",
    "version": 3
   },
   "file_extension": ".py",
   "mimetype": "text/x-python",
   "name": "python",
   "nbconvert_exporter": "python",
   "pygments_lexer": "ipython3",
   "version": "3.9.7"
  }
 },
 "nbformat": 4,
 "nbformat_minor": 2
}
